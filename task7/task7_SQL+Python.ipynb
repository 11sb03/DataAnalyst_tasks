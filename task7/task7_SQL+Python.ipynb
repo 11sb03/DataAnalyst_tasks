{
 "cells": [
  {
   "cell_type": "code",
   "execution_count": 7,
   "id": "e85510f3-a5ed-4a8d-82c4-807e8d5e9d3b",
   "metadata": {},
   "outputs": [
    {
     "name": "stdout",
     "output_type": "stream",
     "text": [
      "Sales Summary by Product:\n",
      "     product  total_qty  revenue\n",
      "0  Product A         52    806.0\n",
      "1  Product B         58   1450.0\n",
      "2  Product C         80    800.0\n",
      "3  Product D         60   1800.0\n",
      "4  Product E         36   1620.0\n"
     ]
    }
   ],
   "source": [
    "import sqlite3\n",
    "import pandas as pd\n",
    "import matplotlib.pyplot as plt\n",
    "\n",
    "# Step 1: Connect to the SQLite database (creates it if it doesn't exist)\n",
    "conn = sqlite3.connect(\"sales_data.db\")\n",
    "cursor = conn.cursor()\n",
    "\n",
    "# Step 2: Create the sales table\n",
    "cursor.execute(\"\"\"\n",
    "CREATE TABLE IF NOT EXISTS sales (\n",
    "    id INTEGER PRIMARY KEY AUTOINCREMENT,\n",
    "    product TEXT,\n",
    "    quantity INTEGER,\n",
    "    price REAL\n",
    ")\n",
    "\"\"\")\n",
    "\n",
    "# Step 3: Insert at least 20 sample rows\n",
    "sample_data = [\n",
    "    ('Product A', 10, 15.5),\n",
    "    ('Product B', 5, 25.0),\n",
    "    ('Product C', 8, 10.0),\n",
    "    ('Product A', 3, 15.5),\n",
    "    ('Product B', 7, 25.0),\n",
    "    ('Product C', 12, 10.0),\n",
    "    ('Product D', 6, 30.0),\n",
    "    ('Product E', 4, 45.0),\n",
    "    ('Product A', 2, 15.5),\n",
    "    ('Product B', 9, 25.0),\n",
    "    ('Product C', 1, 10.0),\n",
    "    ('Product D', 11, 30.0),\n",
    "    ('Product E', 3, 45.0),\n",
    "    ('Product A', 7, 15.5),\n",
    "    ('Product B', 2, 25.0),\n",
    "    ('Product C', 10, 10.0),\n",
    "    ('Product D', 5, 30.0),\n",
    "    ('Product E', 6, 45.0),\n",
    "    ('Product A', 4, 15.5),\n",
    "    ('Product C', 9, 10.0),\n",
    "    ('Product D', 8, 30.0),\n",
    "    ('Product B', 6, 25.0),\n",
    "    ('Product E', 5, 45.0)\n",
    "]\n",
    "\n",
    "cursor.executemany(\"INSERT INTO sales (product, quantity, price) VALUES (?, ?, ?)\", sample_data)\n",
    "conn.commit()\n",
    "\n",
    "# Step 4: Query total quantity and revenue per product\n",
    "query = \"\"\"\n",
    "SELECT \n",
    "    product, \n",
    "    SUM(quantity) AS total_qty, \n",
    "    SUM(quantity * price) AS revenue \n",
    "FROM sales \n",
    "GROUP BY product\n",
    "\"\"\"\n",
    "df = pd.read_sql_query(query, conn)\n",
    "\n",
    "# Step 5: Print the results\n",
    "print(\"Sales Summary by Product:\")\n",
    "print(df)\n",
    "\n"
   ]
  },
  {
   "cell_type": "code",
   "execution_count": 8,
   "id": "b6ba397b-9758-4ed4-835c-f7449a98c6d8",
   "metadata": {},
   "outputs": [
    {
     "data": {
      "image/png": "[encoded data removed]",
      "text/plain": [
       "<Figure size 640x480 with 1 Axes>"
      ]
     },
     "metadata": {},
     "output_type": "display_data"
    }
   ],
   "source": [
    "# Step 6: Plot a bar chart of revenue per product\n",
    "df.plot(kind='bar', x='product', y='revenue', title='Revenue by Product', legend=False)\n",
    "plt.ylabel('Revenue')\n",
    "plt.tight_layout()\n",
    "\n",
    "# Step 7: Save and show the chart\n",
    "plt.savefig(\"sales_chart.png\")\n",
    "plt.show()\n"
   ]
  },
  {
   "cell_type": "code",
   "execution_count": 9,
   "id": "5eee1906-046c-4c2c-9800-621a4a19e65c",
   "metadata": {},
   "outputs": [
    {
     "name": "stdout",
     "output_type": "stream",
     "text": [
      "\n",
      "1. Total Revenue: ₹6476.00\n"
     ]
    }
   ],
   "source": [
    "# 7. Total revenue overall\n",
    "total_revenue = cursor.execute(\"SELECT SUM(quantity * price) FROM sales\").fetchone()[0]\n",
    "print(f\"\\n1. Total Revenue: ₹{total_revenue:.2f}\")"
   ]
  },
  {
   "cell_type": "code",
   "execution_count": 10,
   "id": "f0f77ece-ffba-46b2-9b81-80f8aa212442",
   "metadata": {},
   "outputs": [
    {
     "name": "stdout",
     "output_type": "stream",
     "text": [
      "\n",
      "2. Top-Selling Product by Revenue: Product D with ₹1800.00\n"
     ]
    }
   ],
   "source": [
    "# 8. Top-selling product by revenue\n",
    "top_product = cursor.execute(\"\"\"\n",
    "SELECT product, SUM(quantity * price) AS revenue \n",
    "FROM sales \n",
    "GROUP BY product \n",
    "ORDER BY revenue DESC \n",
    "LIMIT 1\n",
    "\"\"\").fetchone()\n",
    "print(f\"\\n2. Top-Selling Product by Revenue: {top_product[0]} with ₹{top_product[1]:.2f}\")"
   ]
  },
  {
   "cell_type": "code",
   "execution_count": 11,
   "id": "7226eb7c-09ab-40dd-a43e-a399db83c952",
   "metadata": {},
   "outputs": [
    {
     "name": "stdout",
     "output_type": "stream",
     "text": [
      "\n",
      "3. Average Price Per Product:\n",
      "     product  avg_price\n",
      "0  Product A       15.5\n",
      "1  Product B       25.0\n",
      "2  Product C       10.0\n",
      "3  Product D       30.0\n",
      "4  Product E       45.0\n"
     ]
    }
   ],
   "source": [
    "# 9. Average price per product\n",
    "avg_price_df = pd.read_sql_query(\"\"\"\n",
    "SELECT product, ROUND(AVG(price), 2) AS avg_price \n",
    "FROM sales \n",
    "GROUP BY product\n",
    "\"\"\", conn)\n",
    "print(\"\\n3. Average Price Per Product:\")\n",
    "print(avg_price_df)"
   ]
  },
  {
   "cell_type": "code",
   "execution_count": 12,
   "id": "56ef4ea5-3299-44cd-ae46-2cf96da75905",
   "metadata": {},
   "outputs": [
    {
     "name": "stdout",
     "output_type": "stream",
     "text": [
      "\n",
      "4. Total Quantity Sold (All Products): 286 units\n"
     ]
    }
   ],
   "source": [
    "# 10. Total quantity sold across all products\n",
    "total_qty = cursor.execute(\"SELECT SUM(quantity) FROM sales\").fetchone()[0]\n",
    "print(f\"\\n4. Total Quantity Sold (All Products): {total_qty} units\")"
   ]
  },
  {
   "cell_type": "code",
   "execution_count": null,
   "id": "78b0e986-0e39-442e-a37c-f3436b743e63",
   "metadata": {},
   "outputs": [],
   "source": [
    "# . Revenue by product (reuse original query)\n",
    "revenue_df = pd.read_sql_query(\"\"\"\n",
    "SELECT product, SUM(quantity * price) AS revenue \n",
    "FROM sales \n",
    "GROUP BY product\n",
    "\"\"\", conn)"
   ]
  }
 ],
 "metadata": {
  "kernelspec": {
   "display_name": "Python 3 (ipykernel)",
   "language": "python",
   "name": "python3"
  },
  "language_info": {
   "codemirror_mode": {
    "name": "ipython",
    "version": 3
   },
   "file_extension": ".py",
   "mimetype": "text/x-python",
   "name": "python",
   "nbconvert_exporter": "python",
   "pygments_lexer": "ipython3",
   "version": "3.12.7"
  }
 },
 "nbformat": 4,
 "nbformat_minor": 5
}
